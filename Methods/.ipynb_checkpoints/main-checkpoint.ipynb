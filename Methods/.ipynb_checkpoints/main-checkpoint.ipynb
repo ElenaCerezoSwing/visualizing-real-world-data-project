{
 "cells": [
  {
   "cell_type": "code",
   "execution_count": 1,
   "metadata": {},
   "outputs": [
    {
     "name": "stderr",
     "output_type": "stream",
     "text": [
      "/usr/local/lib/python3.7/site-packages/IPython/core/interactiveshell.py:3214: DtypeWarning: Columns (5,9) have mixed types. Specify dtype option on import or set low_memory=False.\n",
      "  if (yield from self.run_code(code, result)):\n"
     ]
    }
   ],
   "source": [
    "from main import *\n",
    "if __name__== '__main__':\n",
    "    data = import_data('../Data/input_data/ufo_sighting_data.csv')"
   ]
  },
  {
   "cell_type": "code",
   "execution_count": 2,
   "metadata": {},
   "outputs": [],
   "source": [
    "ufo = get_copy(data)"
   ]
  },
  {
   "cell_type": "code",
   "execution_count": 3,
   "metadata": {},
   "outputs": [
    {
     "data": {
      "text/plain": [
       "Date_time                             0\n",
       "city                                  0\n",
       "state/province                     5797\n",
       "country                            9670\n",
       "UFO_shape                          1932\n",
       "length_of_encounter_seconds           0\n",
       "described_duration_of_encounter       0\n",
       "description                          15\n",
       "date_documented                       0\n",
       "latitude                              0\n",
       "longitude                             0\n",
       "dtype: int64"
      ]
     },
     "execution_count": 3,
     "metadata": {},
     "output_type": "execute_result"
    }
   ],
   "source": [
    "ufo.isnull().sum()"
   ]
  },
  {
   "cell_type": "code",
   "execution_count": 4,
   "metadata": {},
   "outputs": [],
   "source": [
    "columns_to_clean = ['state/province', 'country', 'UFO_shape','description']"
   ]
  },
  {
   "cell_type": "code",
   "execution_count": 5,
   "metadata": {},
   "outputs": [],
   "source": [
    "ufo2 = drop_na_values_in_more_cols(ufo,columns_to_clean)"
   ]
  },
  {
   "cell_type": "code",
   "execution_count": 6,
   "metadata": {},
   "outputs": [
    {
     "data": {
      "text/plain": [
       "Date_time                          0\n",
       "city                               0\n",
       "state/province                     0\n",
       "country                            0\n",
       "UFO_shape                          0\n",
       "length_of_encounter_seconds        0\n",
       "described_duration_of_encounter    0\n",
       "description                        0\n",
       "date_documented                    0\n",
       "latitude                           0\n",
       "longitude                          0\n",
       "dtype: int64"
      ]
     },
     "execution_count": 6,
     "metadata": {},
     "output_type": "execute_result"
    }
   ],
   "source": [
    "ufo2.isnull().sum()"
   ]
  },
  {
   "cell_type": "markdown",
   "metadata": {},
   "source": [
    "## Generación de nuevos campos para el estudio:"
   ]
  },
  {
   "cell_type": "markdown",
   "metadata": {},
   "source": [
    "### Obtenemos las fechas y las horas a partir de `Date_time`"
   ]
  },
  {
   "cell_type": "code",
   "execution_count": 7,
   "metadata": {},
   "outputs": [],
   "source": [
    "ufo2['Date'] = extract_by_index_and_separator(ufo2, 'Date_time', ' ', 0)\n",
    "ufo2['Date'] = clean_blank_spaces(ufo2, 'Date')\n",
    "ufo2['time'] = extract_by_index_and_separator(ufo2, 'Date_time' , ' ', 1)"
   ]
  },
  {
   "cell_type": "markdown",
   "metadata": {},
   "source": [
    "### Obtenemos los meses a apartir de `Date`"
   ]
  },
  {
   "cell_type": "code",
   "execution_count": null,
   "metadata": {},
   "outputs": [],
   "source": [
    "ufo2['months_aux'] = split_data_by_separator(ufo2,'Date', '/')\n",
    "ufo2['months']= extract_item_by_index(ufo2, 'months_aux', 0 )\n",
    "ufo2['years'] = extract_item_by_index(ufo2, 'months_aux', 2 )\n",
    "ufo2['years'] = conver_item_to_number_type(ufo2, 'years', int)\n",
    "ufo2['months'] = conver_item_to_number_type(ufo2, 'months', int)"
   ]
  }
 ],
 "metadata": {
  "kernelspec": {
   "display_name": "Python 3",
   "language": "python",
   "name": "python3"
  },
  "language_info": {
   "codemirror_mode": {
    "name": "ipython",
    "version": 3
   },
   "file_extension": ".py",
   "mimetype": "text/x-python",
   "name": "python",
   "nbconvert_exporter": "python",
   "pygments_lexer": "ipython3",
   "version": "3.7.3"
  }
 },
 "nbformat": 4,
 "nbformat_minor": 2
}
